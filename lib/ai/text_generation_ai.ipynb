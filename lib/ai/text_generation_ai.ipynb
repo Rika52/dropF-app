{
 "cells": [
  {
   "cell_type": "code",
   "execution_count": 1,
   "metadata": {},
   "outputs": [
    {
     "name": "stdout",
     "output_type": "stream",
     "text": [
      "Note: you may need to restart the kernel to use updated packages.\n"
     ]
    }
   ],
   "source": [
    "%pip install -r requirements.txt > NUL 2>&1"
   ]
  },
  {
   "cell_type": "code",
   "execution_count": 2,
   "metadata": {},
   "outputs": [],
   "source": [
    "import warnings\n",
    "import os\n",
    "\n",
    "from dotenv import load_dotenv\n",
    "warnings.filterwarnings(\"ignore\")\n"
   ]
  },
  {
   "cell_type": "code",
   "execution_count": 3,
   "metadata": {},
   "outputs": [],
   "source": [
    "load_dotenv()\n",
    "api_key = os.getenv(\"API_KEY\")"
   ]
  },
  {
   "cell_type": "markdown",
   "metadata": {},
   "source": [
    "## 1. Load Model"
   ]
  },
  {
   "cell_type": "code",
   "execution_count": 4,
   "metadata": {},
   "outputs": [
    {
     "name": "stdout",
     "output_type": "stream",
     "text": [
      "Model loaded successfully :)\n"
     ]
    }
   ],
   "source": [
    "from transformers import AutoTokenizer, AutoModelForSeq2SeqLM\n",
    "\n",
    "# Load the tokenizer and model\n",
    "tokenizer = AutoTokenizer.from_pretrained(\"Ateeqq/product-description-generator\", use_auth_token=api_key)\n",
    "model = AutoModelForSeq2SeqLM.from_pretrained(\"Ateeqq/product-description-generator\", use_auth_token=api_key)\n",
    "#model = \n",
    "#model = \n",
    "print('Model loaded successfully :)')"
   ]
  },
  {
   "cell_type": "markdown",
   "metadata": {},
   "source": [
    "## 2. Create Prompt"
   ]
  },
  {
   "cell_type": "code",
   "execution_count": 5,
   "metadata": {},
   "outputs": [],
   "source": [
    "def generate_custom_prompt(title, primary_color, secondary_color, features):\n",
    "    # Create the prompt by incorporating user input\n",
    "    prompt = (\n",
    "        f\"Description for {title}: \"\n",
    "        f\"A product that features {primary_color} and {secondary_color} colors. \"\n",
    "        f\"Key unique features include {features[0]}, {features[1]}, and {features[2]}. \"\n",
    "        f\"Generate a compelling and informative product description highlighting these attributes.\"\n",
    "    )\n",
    "    return prompt"
   ]
  },
  {
   "cell_type": "markdown",
   "metadata": {},
   "source": [
    "## 3. Generate Description"
   ]
  },
  {
   "cell_type": "code",
   "execution_count": 6,
   "metadata": {},
   "outputs": [],
   "source": [
    "def generate_product_description(title, primary_color, secondary_color, features):\n",
    "    # Create the custom prompt based on user input\n",
    "    custom_prompt = generate_custom_prompt(title, primary_color, secondary_color, features)\n",
    "    \n",
    "    # Encode the custom prompt\n",
    "    input_ids = tokenizer(custom_prompt, return_tensors=\"pt\", padding=\"longest\", truncation=True, max_length=128).input_ids.to(model.device)\n",
    "    \n",
    "    # Generate product descriptions based on the custom prompt\n",
    "    outputs = model.generate(\n",
    "        input_ids,\n",
    "        num_beams=5,                # Beam search for diversity\n",
    "        num_beam_groups=5,          # Split beams into groups for more diverse generations\n",
    "        num_return_sequences=5,      # Return multiple descriptions\n",
    "        repetition_penalty=10.0,     # Penalize repetitive phrases\n",
    "        diversity_penalty=3.0,       # Encourage diverse outputs\n",
    "        no_repeat_ngram_size=2,      # Prevent repeated phrases\n",
    "        temperature=0.7,             # Control randomness of the generation\n",
    "        max_length=128               # Maximum length of the generated description\n",
    "    )\n",
    "    \n",
    "    # Decode the generated descriptions\n",
    "    return tokenizer.batch_decode(outputs, skip_special_tokens=True)"
   ]
  },
  {
   "cell_type": "code",
   "execution_count": 7,
   "metadata": {},
   "outputs": [],
   "source": [
    "# Example usage\n",
    "title = \"18-Piece Kitchen Dinnerware Set\"\n",
    "primary_color = \"white\"\n",
    "secondary_color = \"silver\"\n",
    "features = [\"microwave-safe\", \"scratch-resistant\", \"stackable design\"]\n",
    "\n",
    "# Generate descriptions based on the custom prompt\n",
    "descriptions = generate_product_description(title, primary_color, secondary_color, features)"
   ]
  },
  {
   "cell_type": "code",
   "execution_count": 8,
   "metadata": {},
   "outputs": [
    {
     "name": "stdout",
     "output_type": "stream",
     "text": [
      "Description 1:\n",
      "Description for 18-Piece Kitchen Dinnerware Set: A product that features white and silver colors. Key unique features include microwave-safe, scratch-resistant, stackable design. Generate a compelling and informative product description highlighting these attributes. The name is printed on the back of each item to help you identify your items in order to make sure they are displayed correctly. This listing includes one set of dinnerware with an attractive black color; this tableware has been designed by our team from its beginnings as if it were made out of high quality materials. It's also very easy to clean because there\n",
      "\n",
      "Description 2:\n",
      "Description For 18 Piece Kitchen Dinnerware Set: A product that features white and silver colors. Key unique features include microwave-safe, scratch resistant, stackable design. Generate a compelling and informative product description featuring these attributes. This is an excellent gift for your family or friends who love cooking with their favorite food items! The set includes one dinnerware piece (including two serving plates) and three desserts pieces (two salad bowls). Features of the tableware are as follows: 1. Made from high quality stainless steel material 2. Easy to clean 3. Durable 4. Stronger than glass; 5. No need to worry about scratches when\n",
      "\n",
      "Description 3:\n",
      "The Description for 18-Piece Kitchen Dinnerware Set is a product that features white and silver colors. Key unique features include microwave-safe, scratch-resistant, stackable design. Generate & informative Product Description: This item contains the following items as mentioned in title: Name of this product: White and Silver Colors Material: Plastic Size: Approx. 14.5x15.5cm/9.8x1.97inch Package Includes: 2 Piece Tabletop Plates (Table Top), 3 Piece Spoons(Sideboard) Note: Please allow slightly error due to manual measurement. Due to\n",
      "\n",
      "Description 4:\n",
      "Feature: 1. The product is designed to be microwave-safe, scratch-resistant and stackable. 2. This set includes 18 pieces of dinnerware with an attractive design that will make your kitchen look more elegant than ever. 3. It features the following characteristics: 1) Material: Food grade stainless steel 2) Color: White + Silver 3) Size: Approx. 14.5x15.5cm/9.8x1.97inch (L*W) 4) Weight: 0.75lb(approx.) Product Description for Kitchen Dinnerware Sets by Key Features Included in this listing: (1) A unique feature from our\n",
      "\n",
      "Description 5:\n",
      "This is a set of 18 pieces dinnerware. The product includes: 1 piece kitchen tableware, 2 bowls and 4 plates; 3 serving dishes with 6 different sizes (including 8 large size) for each person to serve in the same dish or place them on your counter top while also being dishwasher safe! Features: 1. Made from high quality stainless steel material that will not scratch food surfaces 2. Easy to clean 3. Durable 4. Stronger than glass 5. No sharp edges 6. Safer than plastic 7. Non-stick 8. Anti-rust 10. High temperature resistant 11. Colorful 12. Material: 100% Food Grade Plastic\n",
      "\n"
     ]
    }
   ],
   "source": [
    "# Print the generated descriptions\n",
    "for idx, desc in enumerate(descriptions):\n",
    "    print(f\"Description {idx + 1}:\")\n",
    "    print(desc)\n",
    "    print()"
   ]
  },
  {
   "cell_type": "code",
   "execution_count": 9,
   "metadata": {},
   "outputs": [],
   "source": [
    "# Select and print the best description without saving\n",
    "def select_description(descriptions):\n",
    "    # Ask the user to select the preferred description\n",
    "    selection = int(input(\"Select the description you like (1-5): \")) - 1\n",
    "    \n",
    "    if 0 <= selection < len(descriptions):\n",
    "        # Print the selected description instead of saving\n",
    "        selected_description = descriptions[selection]\n",
    "        print(f\"\\nDescription {selection + 1} selected: {selected_description}\")\n",
    "    else:\n",
    "        print(\"Invalid selection. Please try again.\")\n",
    "\n",
    "# Call the function to select the description\n",
    "select_description(descriptions)"
   ]
  },
  {
   "cell_type": "markdown",
   "metadata": {},
   "source": [
    "## 4. SEO Generation"
   ]
  },
  {
   "cell_type": "code",
   "execution_count": null,
   "metadata": {},
   "outputs": [],
   "source": []
  }
 ],
 "metadata": {
  "kernelspec": {
   "display_name": "Python 3 (ipykernel)",
   "language": "python",
   "name": "python3"
  },
  "language_info": {
   "codemirror_mode": {
    "name": "ipython",
    "version": 3
   },
   "file_extension": ".py",
   "mimetype": "text/x-python",
   "name": "python",
   "nbconvert_exporter": "python",
   "pygments_lexer": "ipython3",
   "version": "3.9.18"
  }
 },
 "nbformat": 4,
 "nbformat_minor": 4
}
